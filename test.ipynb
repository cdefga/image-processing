{
 "cells": [
  {
   "cell_type": "code",
   "execution_count": 1,
   "metadata": {},
   "outputs": [
    {
     "data": {
      "text/plain": [
       "'3.6.7 (default, Sep 20 2019, 21:00:37) \\n[GCC 9.1.0]'"
      ]
     },
     "execution_count": 1,
     "metadata": {},
     "output_type": "execute_result"
    }
   ],
   "source": [
    "import sys\n",
    "sys.version"
   ]
  },
  {
   "cell_type": "code",
   "execution_count": 5,
   "metadata": {},
   "outputs": [],
   "source": [
    "import numpy as np\n",
    "import matplotlib.pyplot as plt"
   ]
  },
  {
   "cell_type": "code",
   "execution_count": 2,
   "metadata": {},
   "outputs": [],
   "source": [
    "data = np.loadtxt('vietnamese_ocr.csv', delimiter=',')"
   ]
  },
  {
   "cell_type": "code",
   "execution_count": 10,
   "metadata": {},
   "outputs": [],
   "source": [
    "x_train = data[:, :-1]\n",
    "y_train = data[:, -1:]"
   ]
  },
  {
   "cell_type": "code",
   "execution_count": 66,
   "metadata": {},
   "outputs": [
    {
     "name": "stdout",
     "output_type": "stream",
     "text": [
      "5559\n"
     ]
    }
   ],
   "source": [
    "# y_train[100000]\n",
    "# 176 - 185\n",
    "print(np.abs(97856 - 103415))"
   ]
  },
  {
   "cell_type": "code",
   "execution_count": 65,
   "metadata": {},
   "outputs": [
    {
     "name": "stdout",
     "output_type": "stream",
     "text": [
      "103416\n"
     ]
    },
    {
     "data": {
      "text/plain": [
       "<matplotlib.image.AxesImage at 0x7fb4f655beb8>"
      ]
     },
     "execution_count": 65,
     "metadata": {},
     "output_type": "execute_result"
    },
    {
     "data": {
      "image/png": "[encoded data removed]",
      "text/plain": [
       "<Figure size 432x288 with 1 Axes>"
      ]
     },
     "metadata": {
      "needs_background": "light"
     },
     "output_type": "display_data"
    }
   ],
   "source": [
    "test = x_train[97856]\n",
    "plt.imshow(test.reshape(28,28), cmap='Greys')"
   ]
  },
  {
   "cell_type": "code",
   "execution_count": 109,
   "metadata": {},
   "outputs": [
    {
     "data": {
      "text/plain": [
       "(5560, 784)"
      ]
     },
     "execution_count": 109,
     "metadata": {},
     "output_type": "execute_result"
    }
   ],
   "source": [
    "# a = data[97856:103416]\n",
    "x_data = a[:,:-1]\n",
    "x_data.shape"
   ]
  },
  {
   "cell_type": "code",
   "execution_count": 116,
   "metadata": {},
   "outputs": [
    {
     "data": {
      "text/plain": [
       "array([255., 255., 255., 255., 255., 255., 255., 255., 255., 255., 255.,\n",
       "       255., 255., 255., 255., 255., 255., 255., 255., 255., 255., 255.,\n",
       "       255., 255., 255., 255., 255., 255., 255., 255., 255., 255., 255.,\n",
       "       255., 255., 255., 255., 255., 255., 255., 255., 255., 255., 255.,\n",
       "       255., 255., 255., 255., 255., 255., 255., 255., 255., 255., 255.,\n",
       "       255., 255., 255., 255., 255., 255., 255., 255., 255., 255., 255.,\n",
       "       255., 255., 255., 255., 255., 255., 255., 255., 255., 255., 255.,\n",
       "       255., 255., 255., 255., 255., 255., 255., 255., 255., 255., 255.,\n",
       "       255., 255., 255., 255., 255., 255., 255., 255., 255., 255., 255.,\n",
       "       255., 255., 255., 255., 255., 255., 255., 255., 255., 255., 255.,\n",
       "       255., 255., 255., 255., 255., 255., 255., 255., 255., 255., 255.,\n",
       "       255., 255., 255., 255., 255., 255., 255., 255., 255., 255., 255.,\n",
       "       255., 255., 255., 255., 255., 255., 255., 255., 255., 255., 255.,\n",
       "       255., 255., 255., 255., 255., 255., 255., 255., 255., 255., 255.,\n",
       "       255., 255., 255., 255., 255., 255., 255., 255., 255., 255., 255.,\n",
       "       255., 255., 255., 255., 255., 255., 255., 255., 255., 255., 255.,\n",
       "       255., 255., 255., 255., 255., 255., 255., 255., 255., 255., 255.,\n",
       "       255., 255., 255., 255., 255., 255., 255., 255., 255., 255., 255.,\n",
       "       255., 255., 255., 255., 255., 255., 255., 255., 255., 255., 255.,\n",
       "       255., 255., 255., 255., 255., 255., 255., 255., 255., 255., 255.,\n",
       "       255., 255., 255., 255., 255., 255., 255., 255., 255., 255., 255.,\n",
       "       255., 255., 255., 255., 255., 255., 255., 255., 255., 255., 255.,\n",
       "       255., 255., 255., 255., 255., 255., 255., 255., 255., 255., 255.,\n",
       "       255., 255., 255., 255., 255., 255., 255., 255., 255., 255., 255.,\n",
       "       255., 255., 255., 255., 255., 255., 255., 255., 255., 255., 255.,\n",
       "       255., 255., 255., 255., 255., 255., 255., 255., 255., 255., 255.,\n",
       "       255., 255., 255., 255., 255., 255., 255., 255., 255., 255., 255.,\n",
       "       255., 255., 255., 255., 255., 255., 255., 255., 255., 255., 255.,\n",
       "       255., 255., 255., 255., 255., 255., 255., 255., 255., 255., 255.,\n",
       "       255., 255., 255., 255., 255., 255., 255., 255., 255., 255., 255.,\n",
       "       255., 255., 255., 255., 255., 255., 255., 255., 255., 255., 255.,\n",
       "       255., 255., 255., 255., 255., 255., 222.,  93.,  24.,   6.,  37.,\n",
       "       135., 252., 255., 255., 255., 255., 255., 255., 255., 255., 255.,\n",
       "       255., 255., 255., 255., 255., 255., 255., 255., 255., 255., 255.,\n",
       "       215.,  19.,   0.,   0.,   0.,   0.,   0., 100., 255., 255., 255.,\n",
       "       255., 255., 255., 255., 255., 255., 255., 255., 255., 255., 255.,\n",
       "       255., 255., 255., 255., 255., 255.,  65.,   0.,   0.,   0.,   0.,\n",
       "         0.,   0.,   0., 206., 255., 255., 255., 255., 255., 255., 255.,\n",
       "       255., 255., 255., 255., 255., 255., 255., 255., 255., 255., 255.,\n",
       "       222.,   0.,   0.,   0.,   0.,   0.,   0.,   0.,   0., 126., 255.,\n",
       "       255., 255., 255., 255., 255., 255., 255., 255., 255., 255., 255.,\n",
       "       255., 255., 255., 255., 255., 255., 172.,   0.,   0.,  43., 229.,\n",
       "       240.,  87.,   0.,   0.,  90., 255., 255., 255., 255., 255., 255.,\n",
       "       255., 255., 255., 255., 255., 255., 255., 255., 255., 255., 255.,\n",
       "       255., 152.,   0.,   0.,  96., 255., 255., 167.,   0.,   0.,  85.,\n",
       "       255., 255., 255., 255., 255., 255., 255., 255., 255., 255., 255.,\n",
       "       255., 255., 255., 255., 255., 255., 255., 159.,   0.,   0.,  36.,\n",
       "       226., 243.,  93.,   0.,   0., 105., 255., 255., 255., 255., 255.,\n",
       "       255., 255., 255., 255., 255., 255., 255., 255., 255., 255., 255.,\n",
       "       255., 255., 194.,   0.,   0.,   0.,   0.,   0.,   0.,   0.,   0.,\n",
       "       155., 255., 255., 255., 255., 255., 255., 255., 255., 255., 255.,\n",
       "       255., 255., 255., 255., 255., 255., 255., 255., 250.,  23.,   0.,\n",
       "         0.,   0.,   0.,   0.,   0.,  12., 238., 255., 255., 255., 255.,\n",
       "       255., 255., 255., 255., 255., 255., 255., 255., 255., 255., 255.,\n",
       "       255., 255., 255., 255., 167.,   0.,   0.,   0.,   0.,   0.,   0.,\n",
       "       161., 255., 255., 255., 255., 255., 255., 255., 255., 255., 255.,\n",
       "       255., 255., 255., 255., 255., 255., 255., 255., 255., 255., 255.,\n",
       "       178.,  56.,   9.,  12.,  65., 186., 255., 255., 255., 255., 255.,\n",
       "       255., 255., 255., 255., 255., 255., 255., 255., 255., 255., 255.,\n",
       "       255., 255., 255., 255., 255., 255., 255., 255., 255., 255., 255.,\n",
       "       255., 255., 255., 255., 255., 255., 255., 255., 255., 255., 255.,\n",
       "       255., 255., 255., 255., 255., 255., 255., 255., 255., 255., 255.,\n",
       "       255., 255., 255., 255., 255., 255., 255., 255., 255., 255., 255.,\n",
       "       255., 255., 255., 255., 255., 255., 255., 255., 255., 255., 255.,\n",
       "       255., 255., 255., 255., 255., 255., 255., 255., 255., 255., 255.,\n",
       "       255., 255., 255., 255., 255., 255., 255., 255., 255., 255., 255.,\n",
       "       255., 255., 255., 255., 255., 255., 255., 255., 255., 255., 255.,\n",
       "       255., 255., 255., 255., 255., 255., 255., 255., 255., 255., 255.,\n",
       "       255., 255., 255., 255., 255., 255., 255., 255., 255., 255., 255.,\n",
       "       255., 255., 255., 255., 255., 255., 255., 255., 255., 255., 255.,\n",
       "       255., 255., 255., 255., 255., 255., 255., 255., 255., 255., 255.,\n",
       "       255., 255., 255.,   0.])"
      ]
     },
     "execution_count": 116,
     "metadata": {},
     "output_type": "execute_result"
    }
   ],
   "source": [
    "\n",
    "# final = np.hstack((x_data,b))\n",
    "final[0]"
   ]
  },
  {
   "cell_type": "code",
   "execution_count": 37,
   "metadata": {},
   "outputs": [],
   "source": [
    "import numpy as np\n",
    "from numpy import pi, cos, sin\n",
    "# t = np.loadtxt('vietnamese_number.csv', delimiter=',')\n",
    "# np.savetxt('vietnamese_number.csv', t, fmt='%i', delimiter=',')"
   ]
  },
  {
   "cell_type": "code",
   "execution_count": 53,
   "metadata": {},
   "outputs": [
    {
     "data": {
      "text/plain": [
       "array([[ 0, -1,  0],\n",
       "       [ 1,  0,  0],\n",
       "       [ 0,  0,  1]], dtype=int32)"
      ]
     },
     "execution_count": 53,
     "metadata": {},
     "output_type": "execute_result"
    }
   ],
   "source": [
    "rotate = np.array([cos(-pi/2), sin(-pi/2), 0, -sin(-pi/2), cos(-pi/2), 0, 0, 0, 1], dtype='int32').reshape(3,3)\n",
    "rotate"
   ]
  },
  {
   "cell_type": "code",
   "execution_count": 60,
   "metadata": {},
   "outputs": [
    {
     "data": {
      "text/plain": [
       "array([[-1],\n",
       "       [ 2],\n",
       "       [ 1]], dtype=int32)"
      ]
     },
     "execution_count": 60,
     "metadata": {},
     "output_type": "execute_result"
    }
   ],
   "source": [
    "e = np.array([2, 1, 1], dtype='int32').reshape(3,1)\n",
    "rotate.dot(e)"
   ]
  },
  {
   "cell_type": "code",
   "execution_count": 70,
   "metadata": {},
   "outputs": [
    {
     "data": {
      "text/plain": [
       "array([[1, 0, 1],\n",
       "       [0, 1, 0],\n",
       "       [0, 0, 1]], dtype=int32)"
      ]
     },
     "execution_count": 70,
     "metadata": {},
     "output_type": "execute_result"
    }
   ],
   "source": [
    "x, y = 1, 0\n",
    "translate = np.array([1,0,x,0,1,y,0,0,1], dtype='int32').reshape(3,3)\n",
    "translate"
   ]
  },
  {
   "cell_type": "code",
   "execution_count": 71,
   "metadata": {},
   "outputs": [
    {
     "data": {
      "text/plain": [
       "array([[4],\n",
       "       [5],\n",
       "       [1]])"
      ]
     },
     "execution_count": 71,
     "metadata": {},
     "output_type": "execute_result"
    }
   ],
   "source": [
    "translate.dot(np.array([3,5,1]).reshape(3,1))"
   ]
  },
  {
   "cell_type": "code",
   "execution_count": 72,
   "metadata": {},
   "outputs": [
    {
     "data": {
      "text/plain": [
       "array([[ 0, -1,  0],\n",
       "       [ 1,  0,  1],\n",
       "       [ 0,  0,  1]], dtype=int32)"
      ]
     },
     "execution_count": 72,
     "metadata": {},
     "output_type": "execute_result"
    }
   ],
   "source": [
    "combine = rotate.dot(translate)\n",
    "combine"
   ]
  },
  {
   "cell_type": "code",
   "execution_count": 73,
   "metadata": {},
   "outputs": [
    {
     "data": {
      "text/plain": [
       "array([[-1],\n",
       "       [ 3],\n",
       "       [ 1]], dtype=int32)"
      ]
     },
     "execution_count": 73,
     "metadata": {},
     "output_type": "execute_result"
    }
   ],
   "source": [
    "e = np.array([2, 1, 1], dtype='int32').reshape(3,1)\n",
    "combine.dot(e)"
   ]
  },
  {
   "cell_type": "code",
   "execution_count": null,
   "metadata": {},
   "outputs": [],
   "source": []
  }
 ],
 "metadata": {
  "kernelspec": {
   "display_name": "3.6.7",
   "language": "python",
   "name": "3.6.7"
  },
  "language_info": {
   "codemirror_mode": {
    "name": "ipython",
    "version": 3
   },
   "file_extension": ".py",
   "mimetype": "text/x-python",
   "name": "python",
   "nbconvert_exporter": "python",
   "pygments_lexer": "ipython3",
   "version": "3.6.7"
  }
 },
 "nbformat": 4,
 "nbformat_minor": 4
}
